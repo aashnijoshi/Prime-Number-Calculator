{
  "nbformat": 4,
  "nbformat_minor": 0,
  "metadata": {
    "colab": {
      "name": "Time Taken for 2 different Prime Number Calculators.ipynb",
      "provenance": [],
      "authorship_tag": "ABX9TyM1aSPhgn2ClcGEaagFct8X",
      "include_colab_link": true
    },
    "kernelspec": {
      "name": "python3",
      "display_name": "Python 3"
    },
    "language_info": {
      "name": "python"
    }
  },
  "cells": [
    {
      "cell_type": "markdown",
      "metadata": {
        "id": "view-in-github",
        "colab_type": "text"
      },
      "source": [
        "<a href=\"https://colab.research.google.com/github/aashnijoshi/Prime-Number-Calculator/blob/main/Time_Taken_for_2_different_Prime_Number_Calculators.ipynb\" target=\"_parent\"><img src=\"https://colab.research.google.com/assets/colab-badge.svg\" alt=\"Open In Colab\"/></a>"
      ]
    },
    {
      "cell_type": "code",
      "source": [
        "import math"
      ],
      "metadata": {
        "id": "VGdC0xYpDzwa"
      },
      "execution_count": null,
      "outputs": []
    },
    {
      "cell_type": "markdown",
      "source": [
        ""
      ],
      "metadata": {
        "id": "xEyBlv2IDzPy"
      }
    },
    {
      "cell_type": "code",
      "execution_count": null,
      "metadata": {
        "id": "2hNmu2u0bqk0",
        "colab": {
          "base_uri": "https://localhost:8080/"
        },
        "outputId": "a2a9c748-0573-4e1c-b715-c3c5b013924e"
      },
      "outputs": [
        {
          "output_type": "stream",
          "name": "stdout",
          "text": [
            "Prime numbers are:\n",
            "9999991\n",
            "time taken =1.240405559539795\n"
          ]
        }
      ],
      "source": [
        "#@title Prime Number calculator { run: \"auto\" }\n",
        "n = 10000000 #@param {type:\"slider\", min:2, max:10000000, step:1}\n",
        "\n",
        "import time\n",
        "#n=input(print(\"please enter a number \"))\n",
        "#n=int(n)\n",
        "t1 = time.time()\n",
        "\n",
        "print(\"Prime number is:\")\n",
        "\n",
        "for num in range(n, 2,-1):\n",
        "  \n",
        "   if num > 1:\n",
        "       for i in range(2, num):\n",
        "           if (num % i) == 0:\n",
        "               break\n",
        "       else:\n",
        "           print(num)\n",
        "           break\n",
        "\n",
        "t2= time.time()\n",
        "\n",
        "print(\"time taken =\" + str(t2-t1))\n",
        "\n",
        "\n",
        "\n",
        "\n"
      ]
    },
    {
      "cell_type": "code",
      "source": [
        "#@title Prime Number calculator { run: \"auto\" }\n",
        "n = 10000000 #@param {type:\"slider\", min:2, max:10000000, step:1}\n",
        "import time \n",
        "import math\n",
        "#n=input(print(\"please enter a number \"))\n",
        "#n=int(n)\n",
        "t1 = time.time()\n",
        "print(\"Prime number is:\")\n",
        "\n",
        "for num in range(n,2,-1):\n",
        "  \n",
        "   if num > 1:\n",
        "       for i in range(2, math.ceil(math.sqrt(num))):\n",
        "           if (num % i) == 0:\n",
        "               break\n",
        "       else:\n",
        "           print(num)\n",
        "           break\n",
        "\n",
        "t2=time.time()\n",
        "\n",
        "print(\"time taken =\" + str(t2-t1))"
      ],
      "metadata": {
        "colab": {
          "base_uri": "https://localhost:8080/"
        },
        "id": "QsP5WYOhDtOJ",
        "outputId": "ff4682aa-86f2-448a-d4c4-452e5bb3963d"
      },
      "execution_count": null,
      "outputs": [
        {
          "output_type": "stream",
          "name": "stdout",
          "text": [
            "Prime numbers are:\n",
            "9999991\n",
            "time taken =0.0036499500274658203\n"
          ]
        }
      ]
    }
  ]
}